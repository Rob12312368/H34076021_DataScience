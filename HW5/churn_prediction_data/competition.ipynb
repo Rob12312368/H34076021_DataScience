{
 "cells": [
  {
   "cell_type": "code",
   "execution_count": 2,
   "metadata": {},
   "outputs": [],
   "source": [
    "import pandas as pd\n",
    "import numpy as np\n",
    "import matplotlib.pyplot as plot\n",
    "from sklearn.tree import DecisionTreeClassifier\n",
    "from sklearn.model_selection import train_test_split\n",
    "from sklearn.preprocessing import LabelEncoder"
   ]
  },
  {
   "cell_type": "code",
   "execution_count": 83,
   "metadata": {},
   "outputs": [
    {
     "name": "stdout",
     "output_type": "stream",
     "text": [
      "[0.11108075 0.11156149 0.04265495 0.01768641 0.2147471  0.07639223\n",
      " 0.11268823 0.14474506 0.02354601 0.03360168 0.1112961 ]\n"
     ]
    },
    {
     "data": {
      "image/png": "[encoded data removed]",
      "text/plain": [
       "<Figure size 432x288 with 1 Axes>"
      ]
     },
     "metadata": {
      "needs_background": "light"
     },
     "output_type": "display_data"
    },
    {
     "name": "stdout",
     "output_type": "stream",
     "text": [
      "              Specs         Score\n",
      "6           Balance  1.138847e+06\n",
      "10  EstimatedSalary  2.875829e+03\n",
      "4               Age  8.533788e+02\n",
      "0           Surname  3.277340e+02\n",
      "9    IsActiveMember  9.725211e+01\n",
      "3            Gender  3.961496e+01\n",
      "1       CreditScore  2.738927e+01\n",
      "2         Geography  1.183651e+01\n",
      "7     NumOfProducts  4.237053e+00\n",
      "5            Tenure  7.111131e-01\n",
      "8         HasCrCard  1.070984e-01\n"
     ]
    },
    {
     "data": {
      "text/plain": [
       "\" all_classes=train_data['Exited']\\nall_inputs=train_data.drop(['RowNumber','CustomerId','Surname','Exited'],axis=1)\\nall_inputs['Geography']=le.fit_transform(all_inputs['Geography'])\\nall_inputs['Gender']=le.fit_transform(all_inputs['Gender'])\\n\\n#split\\n(train_inputs, test_inputs, train_classes, test_classes) = train_test_split(all_inputs, all_classes, train_size=0.8, random_state=42,stratify=all_classes) \""
      ]
     },
     "execution_count": 83,
     "metadata": {},
     "output_type": "execute_result"
    }
   ],
   "source": [
    "le=LabelEncoder()\n",
    "train_data=pd.read_csv('train.csv')#8000 rows\n",
    "test_data=pd.read_csv('test.csv')\n",
    "\n",
    "from sklearn.feature_selection import SelectKBest\n",
    "from sklearn.feature_selection import chi2\n",
    "\n",
    "y = train_data['Exited'] \n",
    "train_data=train_data.drop(['RowNumber','CustomerId','Exited'],axis=1)\n",
    "train_data['Surname']=le.fit_transform(train_data['Surname'])\n",
    "train_data['Geography']=le.fit_transform(train_data['Geography'])\n",
    "train_data['Gender']=le.fit_transform(train_data['Gender'])\n",
    "X = train_data.iloc[:,0:11]  #independent columns\n",
    "   #target column i.e price range\n",
    "\n",
    "from sklearn.ensemble import ExtraTreesClassifier\n",
    "import matplotlib.pyplot as plt\n",
    "model = ExtraTreesClassifier()\n",
    "model.fit(X,y)\n",
    "print(model.feature_importances_) #use inbuilt class feature_importances of tree based classifiers\n",
    "#plot graph of feature importances for better visualization\n",
    "feat_importances = pd.Series(model.feature_importances_, index=X.columns)\n",
    "feat_importances.nlargest(11).plot(kind='barh')\n",
    "plt.show()\n",
    "\n",
    "\n",
    "\n",
    "#print(y)\n",
    "#apply SelectKBest class to extract top 10 best features\n",
    "bestfeatures = SelectKBest(score_func=chi2, k=11)\n",
    "fit = bestfeatures.fit(X,y)\n",
    "dfscores = pd.DataFrame(fit.scores_)\n",
    "dfcolumns = pd.DataFrame(X.columns)\n",
    "#concat two dataframes for better visualization \n",
    "featureScores = pd.concat([dfcolumns,dfscores],axis=1)\n",
    "featureScores.columns = ['Specs','Score']  #naming the dataframe columns\n",
    "print(featureScores.sort_values(by='Score',ascending=False))  #print 10 best features\n",
    "\n",
    "\n",
    "\n",
    "\n",
    "\"\"\" all_classes=train_data['Exited']\n",
    "all_inputs=train_data.drop(['RowNumber','CustomerId','Surname','Exited'],axis=1)\n",
    "all_inputs['Geography']=le.fit_transform(all_inputs['Geography'])\n",
    "all_inputs['Gender']=le.fit_transform(all_inputs['Gender'])\n",
    "\n",
    "#split\n",
    "(train_inputs, test_inputs, train_classes, test_classes) = train_test_split(all_inputs, all_classes, train_size=0.8, random_state=42,stratify=all_classes) \"\"\""
   ]
  },
  {
   "cell_type": "code",
   "execution_count": 3,
   "metadata": {},
   "outputs": [],
   "source": [
    "le=LabelEncoder()\n",
    "train_data=pd.read_csv('train.csv')#8000 rows\n",
    "test_data=pd.read_csv('test.csv')\n",
    "\n",
    "all_classes=train_data['Exited']\n",
    "all_inputs=train_data.drop(['RowNumber','CustomerId','Exited','Surname'],axis=1)\n",
    "all_inputs['Geography']=le.fit_transform(all_inputs['Geography'])\n",
    "all_inputs['Gender']=le.fit_transform(all_inputs['Gender'])\n",
    "#all_inputs['Surname']=le.fit_transform(all_inputs['Surname'])\n",
    "\n",
    "#split\n",
    "(train_inputs, test_inputs, train_classes, test_classes) = train_test_split(all_inputs, all_classes, train_size=0.8, random_state=42,stratify=all_classes)"
   ]
  },
  {
   "cell_type": "code",
   "execution_count": 11,
   "metadata": {},
   "outputs": [
    {
     "name": "stdout",
     "output_type": "stream",
     "text": [
      "0.7675 0.7239263803680982 0.5592417061611374\n"
     ]
    }
   ],
   "source": [
    "from sklearn.metrics import f1_score,recall_score,precision_score,accuracy_score\n",
    "from imblearn.ensemble import BalancedRandomForestClassifier\n",
    "from sklearn.model_selection import GridSearchCV\n",
    "cls=BalancedRandomForestClassifier(max_depth=5,n_estimators=250,class_weight='balanced_subsample')\n",
    "'''RF_param = {\"n_estimators\":[200,250,300,350,400],\"max_depth\":[5,10,15],\"class_weight\":['balanced_subsample']}\n",
    "GSCV = GridSearchCV(cls,param_grid=RF_param,cv=5)\n",
    "GSCV.fit(train_inputs,train_classes)\n",
    "print(\"The best model param :\",GSCV.best_params_)'''\n",
    "\n",
    "cls.fit(train_inputs,train_classes)\n",
    "prediction=cls.predict(test_inputs)\n",
    "print(accuracy_score(prediction,test_classes),precision_score(prediction,test_classes),f1_score(prediction,test_classes))"
   ]
  },
  {
   "cell_type": "code",
   "execution_count": 12,
   "metadata": {},
   "outputs": [
    {
     "name": "stdout",
     "output_type": "stream",
     "text": [
      "0.760625 0.7423312883435583 0.558246828143022\n"
     ]
    }
   ],
   "source": [
    "from imblearn.ensemble import EasyEnsembleClassifier\n",
    "cls=EasyEnsembleClassifier(n_estimators=200)\n",
    "cls.fit(train_inputs,train_classes)\n",
    "prediction=cls.predict(test_inputs)\n",
    "print(accuracy_score(prediction,test_classes),precision_score(prediction,test_classes),f1_score(prediction,test_classes))"
   ]
  },
  {
   "cell_type": "code",
   "execution_count": 13,
   "metadata": {},
   "outputs": [
    {
     "name": "stdout",
     "output_type": "stream",
     "text": [
      "0.848125 0.4447852760736196 0.5440900562851783\n"
     ]
    }
   ],
   "source": [
    "from sklearn.metrics import f1_score,recall_score,precision_score,accuracy_score\n",
    "from sklearn.ensemble import RandomForestClassifier\n",
    "from sklearn.model_selection import GridSearchCV\n",
    "cls=RandomForestClassifier(n_estimators=350,class_weight={0:85,1:15})\n",
    "'''RF_param = {\"n_estimators\":[100,150,200,250,300,350,400,450,500],\"max_depth\":[5,10,15,20],\"class_weight\":['balanced_subsample']}\n",
    "GSCV = GridSearchCV(cls,param_grid=RF_param,cv=5)\n",
    "GSCV.fit(train_inputs,train_classes)\n",
    "print(\"The best model param :\",GSCV.best_params_)'''\n",
    "cls.fit(train_inputs,train_classes)\n",
    "prediction=cls.predict(test_inputs)\n",
    "print(accuracy_score(prediction,test_classes),precision_score(prediction,test_classes),f1_score(prediction,test_classes))"
   ]
  },
  {
   "cell_type": "code",
   "execution_count": 8,
   "metadata": {},
   "outputs": [],
   "source": [
    "test_all=test_data.drop(['RowNumber','CustomerId','Surname'],axis=1)\n",
    "test_all['Geography']=le.fit_transform(test_all['Geography'])\n",
    "test_all['Gender']=le.fit_transform(test_all['Gender'])\n",
    "result=pd.DataFrame(columns=['RowNumber','Exited'])\n",
    "result['RowNumber']=test_data['RowNumber']\n",
    "prediction=cls.predict(test_all)\n",
    "result['Exited']=prediction\n",
    "result.to_csv(\"result2.csv\")"
   ]
  },
  {
   "cell_type": "code",
   "execution_count": 56,
   "metadata": {},
   "outputs": [
    {
     "name": "stdout",
     "output_type": "stream",
     "text": [
      "0.78625 0.04294478527607362 0.07567567567567568\n"
     ]
    }
   ],
   "source": [
    "#far form linear \n",
    "from sklearn.linear_model import LogisticRegression\n",
    "cls=LogisticRegression(random_state=42)\n",
    "cls.fit(train_inputs,train_classes)\n",
    "prediction=cls.predict(test_inputs)\n",
    "print(accuracy_score(prediction,test_classes),precision_score(prediction,test_classes),f1_score(prediction,test_classes))"
   ]
  },
  {
   "cell_type": "code",
   "execution_count": 58,
   "metadata": {},
   "outputs": [
    {
     "ename": "SyntaxError",
     "evalue": "unexpected EOF while parsing (<ipython-input-58-1bd38de54d41>, line 4)",
     "output_type": "error",
     "traceback": [
      "\u001b[1;36m  File \u001b[1;32m\"<ipython-input-58-1bd38de54d41>\"\u001b[1;36m, line \u001b[1;32m4\u001b[0m\n\u001b[1;33m    print(accuracy_score(prediction,test_classes),precision_score(prediction,test_classes),f1_score(prediction,test_classes\u001b[0m\n\u001b[1;37m                                                                                                                           ^\u001b[0m\n\u001b[1;31mSyntaxError\u001b[0m\u001b[1;31m:\u001b[0m unexpected EOF while parsing\n"
     ]
    }
   ],
   "source": [
    "\n",
    "cls=DecisionTreeClassifier()\n",
    "cls.fit(train_inputs,train_classes)\n",
    "prediction=cls.predict(test_inputs)\n",
    "print(accuracy_score(prediction,test_classes),precision_score(prediction,test_classes),f1_score(prediction,test_classes"
   ]
  },
  {
   "cell_type": "code",
   "execution_count": 36,
   "metadata": {},
   "outputs": [
    {
     "name": "stdout",
     "output_type": "stream",
     "text": [
      "1.9338227850159337 Index(['CreditScore', 'Geography', 'Age', 'Balance', 'NumOfProducts',\n",
      "       'HasCrCard', 'IsActiveMember'],\n",
      "      dtype='object')\n"
     ]
    }
   ],
   "source": [
    "from sklearn.ensemble import RandomForestClassifier\n",
    "from itertools import combinations\n",
    "temp=train_data.drop(['RowNumber','CustomerId','Exited'],axis=1)\n",
    "temp['Geography']=le.fit_transform(temp['Geography'])\n",
    "temp['Gender']=le.fit_transform(temp['Gender'])\n",
    "temp['Surname']=le.fit_transform(temp['Surname'])\n",
    "sum=0\n",
    "best_column=[]\n",
    "for i in range(1,len(temp.columns)):\n",
    "    result=combinations(temp.columns,i)\n",
    "    result=[list(x) for x in result]\n",
    "    for j in result:\n",
    "        temp2=temp.drop(j,axis=1)\n",
    "        (train_inputs, test_inputs, train_classes, test_classes) = train_test_split(temp2, all_classes, train_size=0.8, random_state=42,stratify=all_classes)\n",
    "        cls=RandomForestClassifier(random_state=42)\n",
    "        cls.fit(train_inputs,train_classes)\n",
    "        prediction=cls.predict(test_inputs)\n",
    "        if(accuracy_score(prediction,test_classes)+precision_score(prediction,test_classes)+f1_score(prediction,test_classes)>sum):\n",
    "            sum=accuracy_score(prediction,test_classes)+precision_score(prediction,test_classes)+f1_score(prediction,test_classes)\n",
    "            best_column=temp2.columns\n",
    "        #print(accuracy_score(prediction,test_classes),precision_score(prediction,test_classes),f1_score(prediction,test_classes))\n",
    "print(sum,best_column)\n",
    "\n",
    "#cls=RandomForestClassifier(random_state=42)\n",
    "#cls.fit(train_inputs,train_classes)\n",
    "#prediction=cls.predict(test_inputs)\n",
    "#print(accuracy_score(prediction,test_classes),precision_score(prediction,test_classes),f1_score(prediction,test_classes))"
   ]
  },
  {
   "cell_type": "code",
   "execution_count": 59,
   "metadata": {},
   "outputs": [
    {
     "ename": "KeyboardInterrupt",
     "evalue": "",
     "output_type": "error",
     "traceback": [
      "\u001b[1;31m---------------------------------------------------------------------------\u001b[0m",
      "\u001b[1;31mKeyboardInterrupt\u001b[0m                         Traceback (most recent call last)",
      "\u001b[1;32m<ipython-input-59-caea7b6ef794>\u001b[0m in \u001b[0;36m<module>\u001b[1;34m\u001b[0m\n\u001b[0;32m      1\u001b[0m \u001b[1;32mfrom\u001b[0m \u001b[0msklearn\u001b[0m\u001b[1;33m.\u001b[0m\u001b[0msvm\u001b[0m \u001b[1;32mimport\u001b[0m \u001b[0mSVC\u001b[0m\u001b[1;33m\u001b[0m\u001b[1;33m\u001b[0m\u001b[0m\n\u001b[0;32m      2\u001b[0m \u001b[0mcls\u001b[0m\u001b[1;33m=\u001b[0m\u001b[0mSVC\u001b[0m\u001b[1;33m(\u001b[0m\u001b[0mkernel\u001b[0m\u001b[1;33m=\u001b[0m\u001b[1;34m'poly'\u001b[0m\u001b[1;33m,\u001b[0m\u001b[0mrandom_state\u001b[0m\u001b[1;33m=\u001b[0m\u001b[1;36m42\u001b[0m\u001b[1;33m)\u001b[0m\u001b[1;33m\u001b[0m\u001b[1;33m\u001b[0m\u001b[0m\n\u001b[1;32m----> 3\u001b[1;33m \u001b[0mcls\u001b[0m\u001b[1;33m.\u001b[0m\u001b[0mfit\u001b[0m\u001b[1;33m(\u001b[0m\u001b[0mtrain_inputs\u001b[0m\u001b[1;33m,\u001b[0m\u001b[0mtrain_classes\u001b[0m\u001b[1;33m)\u001b[0m\u001b[1;33m\u001b[0m\u001b[1;33m\u001b[0m\u001b[0m\n\u001b[0m\u001b[0;32m      4\u001b[0m \u001b[0mprediction\u001b[0m\u001b[1;33m=\u001b[0m\u001b[0mcls\u001b[0m\u001b[1;33m.\u001b[0m\u001b[0mpredict\u001b[0m\u001b[1;33m(\u001b[0m\u001b[0mtest_inputs\u001b[0m\u001b[1;33m)\u001b[0m\u001b[1;33m\u001b[0m\u001b[1;33m\u001b[0m\u001b[0m\n\u001b[0;32m      5\u001b[0m \u001b[0mprint\u001b[0m\u001b[1;33m(\u001b[0m\u001b[0maccuracy_score\u001b[0m\u001b[1;33m(\u001b[0m\u001b[0mprediction\u001b[0m\u001b[1;33m,\u001b[0m\u001b[0mtest_classes\u001b[0m\u001b[1;33m)\u001b[0m\u001b[1;33m,\u001b[0m\u001b[0mprecision_score\u001b[0m\u001b[1;33m(\u001b[0m\u001b[0mprediction\u001b[0m\u001b[1;33m,\u001b[0m\u001b[0mtest_classes\u001b[0m\u001b[1;33m)\u001b[0m\u001b[1;33m,\u001b[0m\u001b[0mf1_score\u001b[0m\u001b[1;33m(\u001b[0m\u001b[0mprediction\u001b[0m\u001b[1;33m,\u001b[0m\u001b[0mtest_classes\u001b[0m\u001b[1;33m)\u001b[0m\u001b[1;33m)\u001b[0m\u001b[1;33m\u001b[0m\u001b[1;33m\u001b[0m\u001b[0m\n",
      "\u001b[1;32m~\\anaconda3\\lib\\site-packages\\sklearn\\svm\\_base.py\u001b[0m in \u001b[0;36mfit\u001b[1;34m(self, X, y, sample_weight)\u001b[0m\n\u001b[0;32m    215\u001b[0m \u001b[1;33m\u001b[0m\u001b[0m\n\u001b[0;32m    216\u001b[0m         \u001b[0mseed\u001b[0m \u001b[1;33m=\u001b[0m \u001b[0mrnd\u001b[0m\u001b[1;33m.\u001b[0m\u001b[0mrandint\u001b[0m\u001b[1;33m(\u001b[0m\u001b[0mnp\u001b[0m\u001b[1;33m.\u001b[0m\u001b[0miinfo\u001b[0m\u001b[1;33m(\u001b[0m\u001b[1;34m'i'\u001b[0m\u001b[1;33m)\u001b[0m\u001b[1;33m.\u001b[0m\u001b[0mmax\u001b[0m\u001b[1;33m)\u001b[0m\u001b[1;33m\u001b[0m\u001b[1;33m\u001b[0m\u001b[0m\n\u001b[1;32m--> 217\u001b[1;33m         \u001b[0mfit\u001b[0m\u001b[1;33m(\u001b[0m\u001b[0mX\u001b[0m\u001b[1;33m,\u001b[0m \u001b[0my\u001b[0m\u001b[1;33m,\u001b[0m \u001b[0msample_weight\u001b[0m\u001b[1;33m,\u001b[0m \u001b[0msolver_type\u001b[0m\u001b[1;33m,\u001b[0m \u001b[0mkernel\u001b[0m\u001b[1;33m,\u001b[0m \u001b[0mrandom_seed\u001b[0m\u001b[1;33m=\u001b[0m\u001b[0mseed\u001b[0m\u001b[1;33m)\u001b[0m\u001b[1;33m\u001b[0m\u001b[1;33m\u001b[0m\u001b[0m\n\u001b[0m\u001b[0;32m    218\u001b[0m         \u001b[1;31m# see comment on the other call to np.iinfo in this file\u001b[0m\u001b[1;33m\u001b[0m\u001b[1;33m\u001b[0m\u001b[1;33m\u001b[0m\u001b[0m\n\u001b[0;32m    219\u001b[0m \u001b[1;33m\u001b[0m\u001b[0m\n",
      "\u001b[1;32m~\\anaconda3\\lib\\site-packages\\sklearn\\svm\\_base.py\u001b[0m in \u001b[0;36m_dense_fit\u001b[1;34m(self, X, y, sample_weight, solver_type, kernel, random_seed)\u001b[0m\n\u001b[0;32m    266\u001b[0m         \u001b[0mself\u001b[0m\u001b[1;33m.\u001b[0m\u001b[0msupport_\u001b[0m\u001b[1;33m,\u001b[0m \u001b[0mself\u001b[0m\u001b[1;33m.\u001b[0m\u001b[0msupport_vectors_\u001b[0m\u001b[1;33m,\u001b[0m \u001b[0mself\u001b[0m\u001b[1;33m.\u001b[0m\u001b[0m_n_support\u001b[0m\u001b[1;33m,\u001b[0m\u001b[0;31m \u001b[0m\u001b[0;31m\\\u001b[0m\u001b[1;33m\u001b[0m\u001b[1;33m\u001b[0m\u001b[0m\n\u001b[0;32m    267\u001b[0m             \u001b[0mself\u001b[0m\u001b[1;33m.\u001b[0m\u001b[0mdual_coef_\u001b[0m\u001b[1;33m,\u001b[0m \u001b[0mself\u001b[0m\u001b[1;33m.\u001b[0m\u001b[0mintercept_\u001b[0m\u001b[1;33m,\u001b[0m \u001b[0mself\u001b[0m\u001b[1;33m.\u001b[0m\u001b[0m_probA\u001b[0m\u001b[1;33m,\u001b[0m\u001b[0;31m \u001b[0m\u001b[0;31m\\\u001b[0m\u001b[1;33m\u001b[0m\u001b[1;33m\u001b[0m\u001b[0m\n\u001b[1;32m--> 268\u001b[1;33m             self._probB, self.fit_status_ = libsvm.fit(\n\u001b[0m\u001b[0;32m    269\u001b[0m                 \u001b[0mX\u001b[0m\u001b[1;33m,\u001b[0m \u001b[0my\u001b[0m\u001b[1;33m,\u001b[0m\u001b[1;33m\u001b[0m\u001b[1;33m\u001b[0m\u001b[0m\n\u001b[0;32m    270\u001b[0m                 \u001b[0msvm_type\u001b[0m\u001b[1;33m=\u001b[0m\u001b[0msolver_type\u001b[0m\u001b[1;33m,\u001b[0m \u001b[0msample_weight\u001b[0m\u001b[1;33m=\u001b[0m\u001b[0msample_weight\u001b[0m\u001b[1;33m,\u001b[0m\u001b[1;33m\u001b[0m\u001b[1;33m\u001b[0m\u001b[0m\n",
      "\u001b[1;31mKeyboardInterrupt\u001b[0m: "
     ]
    }
   ],
   "source": [
    "from sklearn.svm import SVC\n",
    "cls=SVC(kernel='poly',random_state=42)\n",
    "cls.fit(train_inputs,train_classes)\n",
    "prediction=cls.predict(test_inputs)\n",
    "print(accuracy_score(prediction,test_classes),precision_score(prediction,test_classes),f1_score(prediction,test_classes))"
   ]
  },
  {
   "cell_type": "code",
   "execution_count": 60,
   "metadata": {},
   "outputs": [
    {
     "name": "stdout",
     "output_type": "stream",
     "text": [
      "0.794375 0.006134969325153374 0.012012012012012012\n"
     ]
    }
   ],
   "source": [
    "from sklearn.neighbors import KNeighborsClassifier\n",
    "cls=KNeighborsClassifier(n_neighbors=20)\n",
    "cls.fit(train_inputs,train_classes)\n",
    "prediction=cls.predict(test_inputs)\n",
    "print(accuracy_score(prediction,test_classes),precision_score(prediction,test_classes),f1_score(prediction,test_classes))"
   ]
  },
  {
   "cell_type": "code",
   "execution_count": 17,
   "metadata": {},
   "outputs": [
    {
     "name": "stdout",
     "output_type": "stream",
     "text": [
      "0.7829166666666667 0.0836734693877551 0.1359867330016584\n"
     ]
    }
   ],
   "source": [
    "from sklearn.naive_bayes import GaussianNB\n",
    "cls=GaussianNB()\n",
    "cls.fit(train_inputs,train_classes)\n",
    "prediction=cls.predict(test_inputs)\n",
    "print(accuracy_score(prediction,test_classes),precision_score(prediction,test_classes),f1_score(prediction,test_classes))"
   ]
  },
  {
   "cell_type": "code",
   "execution_count": 14,
   "metadata": {},
   "outputs": [
    {
     "name": "stdout",
     "output_type": "stream",
     "text": [
      "0.465 0.6380368098159509 0.32704402515723274\n"
     ]
    }
   ],
   "source": [
    "from sklearn.neural_network import MLPClassifier\n",
    "cls=MLPClassifier(random_state=1)\n",
    "cls.fit(train_inputs,train_classes)\n",
    "prediction=cls.predict(test_inputs)\n",
    "print(accuracy_score(prediction,test_classes),precision_score(prediction,test_classes),f1_score(prediction,test_classes))"
   ]
  },
  {
   "cell_type": "code",
   "execution_count": 86,
   "metadata": {},
   "outputs": [
    {
     "name": "stderr",
     "output_type": "stream",
     "text": [
      "C:\\Users\\USER\\anaconda3\\lib\\site-packages\\xgboost\\sklearn.py:1224: UserWarning: The use of label encoder in XGBClassifier is deprecated and will be removed in a future release. To remove this warning, do the following: 1) Pass option use_label_encoder=False when constructing XGBClassifier object; and 2) Encode your labels (y) as integers starting with 0, i.e. 0, 1, 2, ..., [num_class - 1].\n",
      "  warnings.warn(label_encoder_deprecation_msg, UserWarning)\n"
     ]
    },
    {
     "name": "stdout",
     "output_type": "stream",
     "text": [
      "[17:54:57] WARNING: C:/Users/Administrator/workspace/xgboost-win64_release_1.5.1/src/learner.cc:576: \n",
      "Parameters: { \"random\" } might not be used.\n",
      "\n",
      "  This could be a false alarm, with some parameters getting used by language bindings but\n",
      "  then being mistakenly passed down to XGBoost core, or some parameter actually being used\n",
      "  but getting flagged wrongly here. Please open an issue if you find any such cases.\n",
      "\n",
      "\n",
      "[17:54:57] WARNING: C:/Users/Administrator/workspace/xgboost-win64_release_1.5.1/src/learner.cc:1115: Starting in XGBoost 1.3.0, the default evaluation metric used with the objective 'binary:logistic' was changed from 'error' to 'logloss'. Explicitly set eval_metric if you'd like to restore the old behavior.\n",
      "0.82 0.3895705521472393 0.46863468634686345\n"
     ]
    }
   ],
   "source": [
    "from xgboost import XGBClassifier\n",
    "from sklearn.model_selection import RandomizedSearchCV\n",
    "# 建立 XGBClassifier 模型\n",
    "cls= XGBClassifier(random=42)\n",
    "\"\"\" param_dist = {\n",
    "        'n_estimators':range(80,200,4),\n",
    "        'max_depth':range(2,15,1),\n",
    "        'learning_rate':np.linspace(0.01,2,20),\n",
    "        'subsample':np.linspace(0.7,0.9,20),\n",
    "        'colsample_bytree':np.linspace(0.5,0.98,10),\n",
    "        'min_child_weight':range(1,9,1)\n",
    "        }\n",
    "grid = RandomizedSearchCV(cls,param_dist,cv = 3,n_iter=10,n_jobs = 1) \"\"\"\n",
    "# 使用訓練資料訓練模型\n",
    "cls.fit(train_inputs,train_classes)\n",
    "# 使用訓練資料預測分類\n",
    "prediction = cls.predict(test_inputs)\n",
    "print(accuracy_score(prediction,test_classes),precision_score(prediction,test_classes),f1_score(prediction,test_classes))"
   ]
  }
 ],
 "metadata": {
  "kernelspec": {
   "display_name": "Python 3",
   "language": "python",
   "name": "python3"
  },
  "language_info": {
   "codemirror_mode": {
    "name": "ipython",
    "version": 3
   },
   "file_extension": ".py",
   "mimetype": "text/x-python",
   "name": "python",
   "nbconvert_exporter": "python",
   "pygments_lexer": "ipython3",
   "version": "3.8.5"
  }
 },
 "nbformat": 4,
 "nbformat_minor": 4
}
